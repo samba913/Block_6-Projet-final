{
 "cells": [
  {
   "cell_type": "code",
   "execution_count": 1,
   "metadata": {},
   "outputs": [
    {
     "name": "stderr",
     "output_type": "stream",
     "text": [
      "/Users/student/Library/Python/3.9/lib/python/site-packages/tqdm/auto.py:21: TqdmWarning: IProgress not found. Please update jupyter and ipywidgets. See https://ipywidgets.readthedocs.io/en/stable/user_install.html\n",
      "  from .autonotebook import tqdm as notebook_tqdm\n"
     ]
    }
   ],
   "source": [
    "import streamlit as st\n",
    "import pandas as pd\n",
    "import requests\n",
    "from transformers import BartForConditionalGeneration, BartTokenizer\n",
    "import torch\n",
    "import requests\n",
    "import uvicorn"
   ]
  },
  {
   "cell_type": "code",
   "execution_count": 2,
   "metadata": {},
   "outputs": [],
   "source": [
    "# Configuration\n",
    "st.set_page_config(\n",
    "    page_title=\"News Summarizer\",\n",
    "    page_icon=\"📰\",\n",
    "    layout=\"wide\"\n",
    "    )\n"
   ]
  },
  {
   "cell_type": "code",
   "execution_count": 3,
   "metadata": {},
   "outputs": [
    {
     "name": "stderr",
     "output_type": "stream",
     "text": [
      "2023-06-23 16:01:44.987 \n",
      "  \u001b[33m\u001b[1mWarning:\u001b[0m to view this Streamlit app on a browser, run it with the following\n",
      "  command:\n",
      "\n",
      "    streamlit run /Users/student/Library/Python/3.9/lib/python/site-packages/ipykernel_launcher.py [ARGUMENTS]\n"
     ]
    }
   ],
   "source": [
    "\n",
    "##Title\n",
    "st.title(\"News Article Summarizer🗞\")\n",
    "\n",
    "# Explain app in a few words\n",
    "st.subheader(\"Copy and paste any news article and obtain a summarized version in just a few sentences!\")\n",
    "\n",
    "# Article input area\n",
    "text_inp = st.text_area(\"Paste your article here:\")"
   ]
  },
  {
   "cell_type": "code",
   "execution_count": 4,
   "metadata": {},
   "outputs": [],
   "source": [
    "# Model\n",
    "def summarize_text(text_inp):\n",
    "    api_input = {\"text\": text_inp}\n",
    "    r = requests.post(\"http://host.docker.internal:4000\", data=api_input)\n",
    "    st.write(r.json())"
   ]
  },
  {
   "cell_type": "code",
   "execution_count": 9,
   "metadata": {},
   "outputs": [],
   "source": [
    "# Submit button\n",
    "if st.button('Submit'):\n",
    "        # Display output\n",
    "        st.subheader(\"Summarized Article\")\n",
    "        output = summarize_text(text_inp)\n",
    "        st.write(output)\n",
    "        st.divider()\n",
    "\n",
    "        # Make calculations for benefits\n",
    "        output = str(output)\n",
    "        words_per_minute = 238 # avg words per minute for adult\n",
    "        before = len(text_inp.split()) # amount of words in input\n",
    "        after = len(output.split()) # amount of words in output\n",
    "        \n",
    "        time_article = round(before/words_per_minute,2)\n",
    "        time_summary = round(after/words_per_minute,2)\n",
    "        time_saved = time_article - time_summary\n",
    "        difference = before / after\n",
    "\n",
    "        # Make columns\n",
    "        col1, col2 = st.columns(2)\n",
    "        with col1:  \n",
    "        # Display benefits\n",
    "            st.subheader(\"Benefits of using the App\")\n",
    "            st.write(\"Before:\", before, \"words.\")\n",
    "            st.write(\"After:\", after, \"words.\")\n",
    "            st.write(\"The average reader saves\", time_saved, \"minutes with the summary.\")\n",
    "            st.write(\"The summary is\", difference, \"times shorter than the original article.\")    \n",
    "\n",
    "        with col2:\n",
    "        # Display download options\n",
    "            st.subheader(\"Download\")\n",
    "            st.download_button(\"TXT\", mime=\"txt\", data=output, file_name=\"article_summary.txt\")\n",
    "            st.download_button(\"DOC\", mime=\"doc\", data=output, file_name=\"article_summary.doc\")\n",
    "            st.download_button(\"PDF\", mime=\"pdf\", data=output, file_name=\"summary.pdf\")\n",
    "\n",
    "            print(type(output))"
   ]
  }
 ],
 "metadata": {
  "kernelspec": {
   "display_name": "Python 3",
   "language": "python",
   "name": "python3"
  },
  "language_info": {
   "codemirror_mode": {
    "name": "ipython",
    "version": 3
   },
   "file_extension": ".py",
   "mimetype": "text/x-python",
   "name": "python",
   "nbconvert_exporter": "python",
   "pygments_lexer": "ipython3",
   "version": "3.9.6"
  },
  "orig_nbformat": 4
 },
 "nbformat": 4,
 "nbformat_minor": 2
}
